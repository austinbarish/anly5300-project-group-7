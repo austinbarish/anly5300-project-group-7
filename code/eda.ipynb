{
  "cells": [
    {
      "cell_type": "code",
      "execution_count": 1,
      "metadata": {
        "vscode": {
          "languageId": "r"
        }
      },
      "outputs": [
        {
          "name": "stderr",
          "output_type": "stream",
          "text": [
            "Warning message:\n",
            "\"package 'corrplot' was built under R version 4.3.2\"\n",
            "corrplot 0.92 loaded\n",
            "\n",
            "\n",
            "Attaching package: 'dplyr'\n",
            "\n",
            "\n",
            "The following objects are masked from 'package:stats':\n",
            "\n",
            "    filter, lag\n",
            "\n",
            "\n",
            "The following objects are masked from 'package:base':\n",
            "\n",
            "    intersect, setdiff, setequal, union\n",
            "\n",
            "\n",
            "Loading required package: plyr\n",
            "\n",
            "------------------------------------------------------------------------------\n",
            "\n",
            "You have loaded plyr after dplyr - this is likely to cause problems.\n",
            "If you need functions from both plyr and dplyr, please load plyr first, then dplyr:\n",
            "library(plyr); library(dplyr)\n",
            "\n",
            "------------------------------------------------------------------------------\n",
            "\n",
            "\n",
            "Attaching package: 'plyr'\n",
            "\n",
            "\n",
            "The following objects are masked from 'package:dplyr':\n",
            "\n",
            "    arrange, count, desc, failwith, id, mutate, rename, summarise,\n",
            "    summarize\n",
            "\n",
            "\n"
          ]
        }
      ],
      "source": [
        "library(corrplot)\n",
        "library(ggplot2)\n",
        "library(dplyr)\n",
        "require(plyr)\n",
        "library(readr)"
      ]
    },
    {
      "cell_type": "code",
      "execution_count": 3,
      "metadata": {
        "vscode": {
          "languageId": "r"
        }
      },
      "outputs": [
        {
          "data": {
            "text/html": [
              "<table class=\"dataframe\">\n",
              "<caption>A data.frame: 6 × 37</caption>\n",
              "<thead>\n",
              "\t<tr><th></th><th scope=col>Marital.status</th><th scope=col>Application.mode</th><th scope=col>Application.order</th><th scope=col>Course</th><th scope=col>Daytime.evening.attendance.</th><th scope=col>Previous.qualification</th><th scope=col>Previous.qualification..grade.</th><th scope=col>Nacionality</th><th scope=col>Mother.s.qualification</th><th scope=col>Father.s.qualification</th><th scope=col>⋯</th><th scope=col>Curricular.units.2nd.sem..credited.</th><th scope=col>Curricular.units.2nd.sem..enrolled.</th><th scope=col>Curricular.units.2nd.sem..evaluations.</th><th scope=col>Curricular.units.2nd.sem..approved.</th><th scope=col>Curricular.units.2nd.sem..grade.</th><th scope=col>Curricular.units.2nd.sem..without.evaluations.</th><th scope=col>Unemployment.rate</th><th scope=col>Inflation.rate</th><th scope=col>GDP</th><th scope=col>Target</th></tr>\n",
              "\t<tr><th></th><th scope=col>&lt;int&gt;</th><th scope=col>&lt;int&gt;</th><th scope=col>&lt;int&gt;</th><th scope=col>&lt;int&gt;</th><th scope=col>&lt;int&gt;</th><th scope=col>&lt;int&gt;</th><th scope=col>&lt;dbl&gt;</th><th scope=col>&lt;int&gt;</th><th scope=col>&lt;int&gt;</th><th scope=col>&lt;int&gt;</th><th scope=col>⋯</th><th scope=col>&lt;int&gt;</th><th scope=col>&lt;int&gt;</th><th scope=col>&lt;int&gt;</th><th scope=col>&lt;int&gt;</th><th scope=col>&lt;dbl&gt;</th><th scope=col>&lt;int&gt;</th><th scope=col>&lt;dbl&gt;</th><th scope=col>&lt;dbl&gt;</th><th scope=col>&lt;dbl&gt;</th><th scope=col>&lt;chr&gt;</th></tr>\n",
              "</thead>\n",
              "<tbody>\n",
              "\t<tr><th scope=row>1</th><td>1</td><td>17</td><td>5</td><td> 171</td><td>1</td><td> 1</td><td>122.0</td><td>1</td><td>19</td><td>12</td><td>⋯</td><td>0</td><td>0</td><td> 0</td><td>0</td><td> 0.00000</td><td>0</td><td>10.8</td><td> 1.4</td><td> 1.74</td><td>Dropout </td></tr>\n",
              "\t<tr><th scope=row>2</th><td>1</td><td>15</td><td>1</td><td>9254</td><td>1</td><td> 1</td><td>160.0</td><td>1</td><td> 1</td><td> 3</td><td>⋯</td><td>0</td><td>6</td><td> 6</td><td>6</td><td>13.66667</td><td>0</td><td>13.9</td><td>-0.3</td><td> 0.79</td><td>Graduate</td></tr>\n",
              "\t<tr><th scope=row>3</th><td>1</td><td> 1</td><td>5</td><td>9070</td><td>1</td><td> 1</td><td>122.0</td><td>1</td><td>37</td><td>37</td><td>⋯</td><td>0</td><td>6</td><td> 0</td><td>0</td><td> 0.00000</td><td>0</td><td>10.8</td><td> 1.4</td><td> 1.74</td><td>Dropout </td></tr>\n",
              "\t<tr><th scope=row>4</th><td>1</td><td>17</td><td>2</td><td>9773</td><td>1</td><td> 1</td><td>122.0</td><td>1</td><td>38</td><td>37</td><td>⋯</td><td>0</td><td>6</td><td>10</td><td>5</td><td>12.40000</td><td>0</td><td> 9.4</td><td>-0.8</td><td>-3.12</td><td>Graduate</td></tr>\n",
              "\t<tr><th scope=row>5</th><td>2</td><td>39</td><td>1</td><td>8014</td><td>0</td><td> 1</td><td>100.0</td><td>1</td><td>37</td><td>38</td><td>⋯</td><td>0</td><td>6</td><td> 6</td><td>6</td><td>13.00000</td><td>0</td><td>13.9</td><td>-0.3</td><td> 0.79</td><td>Graduate</td></tr>\n",
              "\t<tr><th scope=row>6</th><td>2</td><td>39</td><td>1</td><td>9991</td><td>0</td><td>19</td><td>133.1</td><td>1</td><td>37</td><td>37</td><td>⋯</td><td>0</td><td>5</td><td>17</td><td>5</td><td>11.50000</td><td>5</td><td>16.2</td><td> 0.3</td><td>-0.92</td><td>Graduate</td></tr>\n",
              "</tbody>\n",
              "</table>\n"
            ],
            "text/latex": [
              "A data.frame: 6 × 37\n",
              "\\begin{tabular}{r|lllllllllllllllllllll}\n",
              "  & Marital.status & Application.mode & Application.order & Course & Daytime.evening.attendance. & Previous.qualification & Previous.qualification..grade. & Nacionality & Mother.s.qualification & Father.s.qualification & ⋯ & Curricular.units.2nd.sem..credited. & Curricular.units.2nd.sem..enrolled. & Curricular.units.2nd.sem..evaluations. & Curricular.units.2nd.sem..approved. & Curricular.units.2nd.sem..grade. & Curricular.units.2nd.sem..without.evaluations. & Unemployment.rate & Inflation.rate & GDP & Target\\\\\n",
              "  & <int> & <int> & <int> & <int> & <int> & <int> & <dbl> & <int> & <int> & <int> & ⋯ & <int> & <int> & <int> & <int> & <dbl> & <int> & <dbl> & <dbl> & <dbl> & <chr>\\\\\n",
              "\\hline\n",
              "\t1 & 1 & 17 & 5 &  171 & 1 &  1 & 122.0 & 1 & 19 & 12 & ⋯ & 0 & 0 &  0 & 0 &  0.00000 & 0 & 10.8 &  1.4 &  1.74 & Dropout \\\\\n",
              "\t2 & 1 & 15 & 1 & 9254 & 1 &  1 & 160.0 & 1 &  1 &  3 & ⋯ & 0 & 6 &  6 & 6 & 13.66667 & 0 & 13.9 & -0.3 &  0.79 & Graduate\\\\\n",
              "\t3 & 1 &  1 & 5 & 9070 & 1 &  1 & 122.0 & 1 & 37 & 37 & ⋯ & 0 & 6 &  0 & 0 &  0.00000 & 0 & 10.8 &  1.4 &  1.74 & Dropout \\\\\n",
              "\t4 & 1 & 17 & 2 & 9773 & 1 &  1 & 122.0 & 1 & 38 & 37 & ⋯ & 0 & 6 & 10 & 5 & 12.40000 & 0 &  9.4 & -0.8 & -3.12 & Graduate\\\\\n",
              "\t5 & 2 & 39 & 1 & 8014 & 0 &  1 & 100.0 & 1 & 37 & 38 & ⋯ & 0 & 6 &  6 & 6 & 13.00000 & 0 & 13.9 & -0.3 &  0.79 & Graduate\\\\\n",
              "\t6 & 2 & 39 & 1 & 9991 & 0 & 19 & 133.1 & 1 & 37 & 37 & ⋯ & 0 & 5 & 17 & 5 & 11.50000 & 5 & 16.2 &  0.3 & -0.92 & Graduate\\\\\n",
              "\\end{tabular}\n"
            ],
            "text/markdown": [
              "\n",
              "A data.frame: 6 × 37\n",
              "\n",
              "| <!--/--> | Marital.status &lt;int&gt; | Application.mode &lt;int&gt; | Application.order &lt;int&gt; | Course &lt;int&gt; | Daytime.evening.attendance. &lt;int&gt; | Previous.qualification &lt;int&gt; | Previous.qualification..grade. &lt;dbl&gt; | Nacionality &lt;int&gt; | Mother.s.qualification &lt;int&gt; | Father.s.qualification &lt;int&gt; | ⋯ ⋯ | Curricular.units.2nd.sem..credited. &lt;int&gt; | Curricular.units.2nd.sem..enrolled. &lt;int&gt; | Curricular.units.2nd.sem..evaluations. &lt;int&gt; | Curricular.units.2nd.sem..approved. &lt;int&gt; | Curricular.units.2nd.sem..grade. &lt;dbl&gt; | Curricular.units.2nd.sem..without.evaluations. &lt;int&gt; | Unemployment.rate &lt;dbl&gt; | Inflation.rate &lt;dbl&gt; | GDP &lt;dbl&gt; | Target &lt;chr&gt; |\n",
              "|---|---|---|---|---|---|---|---|---|---|---|---|---|---|---|---|---|---|---|---|---|---|\n",
              "| 1 | 1 | 17 | 5 |  171 | 1 |  1 | 122.0 | 1 | 19 | 12 | ⋯ | 0 | 0 |  0 | 0 |  0.00000 | 0 | 10.8 |  1.4 |  1.74 | Dropout  |\n",
              "| 2 | 1 | 15 | 1 | 9254 | 1 |  1 | 160.0 | 1 |  1 |  3 | ⋯ | 0 | 6 |  6 | 6 | 13.66667 | 0 | 13.9 | -0.3 |  0.79 | Graduate |\n",
              "| 3 | 1 |  1 | 5 | 9070 | 1 |  1 | 122.0 | 1 | 37 | 37 | ⋯ | 0 | 6 |  0 | 0 |  0.00000 | 0 | 10.8 |  1.4 |  1.74 | Dropout  |\n",
              "| 4 | 1 | 17 | 2 | 9773 | 1 |  1 | 122.0 | 1 | 38 | 37 | ⋯ | 0 | 6 | 10 | 5 | 12.40000 | 0 |  9.4 | -0.8 | -3.12 | Graduate |\n",
              "| 5 | 2 | 39 | 1 | 8014 | 0 |  1 | 100.0 | 1 | 37 | 38 | ⋯ | 0 | 6 |  6 | 6 | 13.00000 | 0 | 13.9 | -0.3 |  0.79 | Graduate |\n",
              "| 6 | 2 | 39 | 1 | 9991 | 0 | 19 | 133.1 | 1 | 37 | 37 | ⋯ | 0 | 5 | 17 | 5 | 11.50000 | 5 | 16.2 |  0.3 | -0.92 | Graduate |\n",
              "\n"
            ],
            "text/plain": [
              "  Marital.status Application.mode Application.order Course\n",
              "1 1              17               5                  171  \n",
              "2 1              15               1                 9254  \n",
              "3 1               1               5                 9070  \n",
              "4 1              17               2                 9773  \n",
              "5 2              39               1                 8014  \n",
              "6 2              39               1                 9991  \n",
              "  Daytime.evening.attendance. Previous.qualification\n",
              "1 1                            1                    \n",
              "2 1                            1                    \n",
              "3 1                            1                    \n",
              "4 1                            1                    \n",
              "5 0                            1                    \n",
              "6 0                           19                    \n",
              "  Previous.qualification..grade. Nacionality Mother.s.qualification\n",
              "1 122.0                          1           19                    \n",
              "2 160.0                          1            1                    \n",
              "3 122.0                          1           37                    \n",
              "4 122.0                          1           38                    \n",
              "5 100.0                          1           37                    \n",
              "6 133.1                          1           37                    \n",
              "  Father.s.qualification ⋯ Curricular.units.2nd.sem..credited.\n",
              "1 12                     ⋯ 0                                  \n",
              "2  3                     ⋯ 0                                  \n",
              "3 37                     ⋯ 0                                  \n",
              "4 37                     ⋯ 0                                  \n",
              "5 38                     ⋯ 0                                  \n",
              "6 37                     ⋯ 0                                  \n",
              "  Curricular.units.2nd.sem..enrolled. Curricular.units.2nd.sem..evaluations.\n",
              "1 0                                    0                                    \n",
              "2 6                                    6                                    \n",
              "3 6                                    0                                    \n",
              "4 6                                   10                                    \n",
              "5 6                                    6                                    \n",
              "6 5                                   17                                    \n",
              "  Curricular.units.2nd.sem..approved. Curricular.units.2nd.sem..grade.\n",
              "1 0                                    0.00000                        \n",
              "2 6                                   13.66667                        \n",
              "3 0                                    0.00000                        \n",
              "4 5                                   12.40000                        \n",
              "5 6                                   13.00000                        \n",
              "6 5                                   11.50000                        \n",
              "  Curricular.units.2nd.sem..without.evaluations. Unemployment.rate\n",
              "1 0                                              10.8             \n",
              "2 0                                              13.9             \n",
              "3 0                                              10.8             \n",
              "4 0                                               9.4             \n",
              "5 0                                              13.9             \n",
              "6 5                                              16.2             \n",
              "  Inflation.rate GDP   Target  \n",
              "1  1.4            1.74 Dropout \n",
              "2 -0.3            0.79 Graduate\n",
              "3  1.4            1.74 Dropout \n",
              "4 -0.8           -3.12 Graduate\n",
              "5 -0.3            0.79 Graduate\n",
              "6  0.3           -0.92 Graduate"
            ]
          },
          "metadata": {},
          "output_type": "display_data"
        },
        {
          "data": {
            "text/plain": [
              " Marital.status  Application.mode Application.order     Course    \n",
              " Min.   :1.000   Min.   : 1.00    Min.   :0.000     Min.   :  33  \n",
              " 1st Qu.:1.000   1st Qu.: 1.00    1st Qu.:1.000     1st Qu.:9085  \n",
              " Median :1.000   Median :17.00    Median :1.000     Median :9238  \n",
              " Mean   :1.179   Mean   :18.67    Mean   :1.728     Mean   :8857  \n",
              " 3rd Qu.:1.000   3rd Qu.:39.00    3rd Qu.:2.000     3rd Qu.:9556  \n",
              " Max.   :6.000   Max.   :57.00    Max.   :9.000     Max.   :9991  \n",
              " Daytime.evening.attendance. Previous.qualification\n",
              " Min.   :0.0000              Min.   : 1.000        \n",
              " 1st Qu.:1.0000              1st Qu.: 1.000        \n",
              " Median :1.0000              Median : 1.000        \n",
              " Mean   :0.8908              Mean   : 4.578        \n",
              " 3rd Qu.:1.0000              3rd Qu.: 1.000        \n",
              " Max.   :1.0000              Max.   :43.000        \n",
              " Previous.qualification..grade.  Nacionality      Mother.s.qualification\n",
              " Min.   : 95.0                  Min.   :  1.000   Min.   : 1.00         \n",
              " 1st Qu.:125.0                  1st Qu.:  1.000   1st Qu.: 2.00         \n",
              " Median :133.1                  Median :  1.000   Median :19.00         \n",
              " Mean   :132.6                  Mean   :  1.873   Mean   :19.56         \n",
              " 3rd Qu.:140.0                  3rd Qu.:  1.000   3rd Qu.:37.00         \n",
              " Max.   :190.0                  Max.   :109.000   Max.   :44.00         \n",
              " Father.s.qualification Mother.s.occupation Father.s.occupation Admission.grade\n",
              " Min.   : 1.00          Min.   :  0.00      Min.   :  0.00      Min.   : 95.0  \n",
              " 1st Qu.: 3.00          1st Qu.:  4.00      1st Qu.:  4.00      1st Qu.:117.9  \n",
              " Median :19.00          Median :  5.00      Median :  7.00      Median :126.1  \n",
              " Mean   :22.28          Mean   : 10.96      Mean   : 11.03      Mean   :127.0  \n",
              " 3rd Qu.:37.00          3rd Qu.:  9.00      3rd Qu.:  9.00      3rd Qu.:134.8  \n",
              " Max.   :44.00          Max.   :194.00      Max.   :195.00      Max.   :190.0  \n",
              "   Displaced      Educational.special.needs     Debtor      \n",
              " Min.   :0.0000   Min.   :0.00000           Min.   :0.0000  \n",
              " 1st Qu.:0.0000   1st Qu.:0.00000           1st Qu.:0.0000  \n",
              " Median :1.0000   Median :0.00000           Median :0.0000  \n",
              " Mean   :0.5484   Mean   :0.01153           Mean   :0.1137  \n",
              " 3rd Qu.:1.0000   3rd Qu.:0.00000           3rd Qu.:0.0000  \n",
              " Max.   :1.0000   Max.   :1.00000           Max.   :1.0000  \n",
              " Tuition.fees.up.to.date     Gender       Scholarship.holder Age.at.enrollment\n",
              " Min.   :0.0000          Min.   :0.0000   Min.   :0.0000     Min.   :17.00    \n",
              " 1st Qu.:1.0000          1st Qu.:0.0000   1st Qu.:0.0000     1st Qu.:19.00    \n",
              " Median :1.0000          Median :0.0000   Median :0.0000     Median :20.00    \n",
              " Mean   :0.8807          Mean   :0.3517   Mean   :0.2484     Mean   :23.27    \n",
              " 3rd Qu.:1.0000          3rd Qu.:1.0000   3rd Qu.:0.0000     3rd Qu.:25.00    \n",
              " Max.   :1.0000          Max.   :1.0000   Max.   :1.0000     Max.   :70.00    \n",
              " International     Curricular.units.1st.sem..credited.\n",
              " Min.   :0.00000   Min.   : 0.00                      \n",
              " 1st Qu.:0.00000   1st Qu.: 0.00                      \n",
              " Median :0.00000   Median : 0.00                      \n",
              " Mean   :0.02486   Mean   : 0.71                      \n",
              " 3rd Qu.:0.00000   3rd Qu.: 0.00                      \n",
              " Max.   :1.00000   Max.   :20.00                      \n",
              " Curricular.units.1st.sem..enrolled. Curricular.units.1st.sem..evaluations.\n",
              " Min.   : 0.000                      Min.   : 0.000                        \n",
              " 1st Qu.: 5.000                      1st Qu.: 6.000                        \n",
              " Median : 6.000                      Median : 8.000                        \n",
              " Mean   : 6.271                      Mean   : 8.299                        \n",
              " 3rd Qu.: 7.000                      3rd Qu.:10.000                        \n",
              " Max.   :26.000                      Max.   :45.000                        \n",
              " Curricular.units.1st.sem..approved. Curricular.units.1st.sem..grade.\n",
              " Min.   : 0.000                      Min.   : 0.00                   \n",
              " 1st Qu.: 3.000                      1st Qu.:11.00                   \n",
              " Median : 5.000                      Median :12.29                   \n",
              " Mean   : 4.707                      Mean   :10.64                   \n",
              " 3rd Qu.: 6.000                      3rd Qu.:13.40                   \n",
              " Max.   :26.000                      Max.   :18.88                   \n",
              " Curricular.units.1st.sem..without.evaluations.\n",
              " Min.   : 0.0000                               \n",
              " 1st Qu.: 0.0000                               \n",
              " Median : 0.0000                               \n",
              " Mean   : 0.1377                               \n",
              " 3rd Qu.: 0.0000                               \n",
              " Max.   :12.0000                               \n",
              " Curricular.units.2nd.sem..credited. Curricular.units.2nd.sem..enrolled.\n",
              " Min.   : 0.0000                     Min.   : 0.000                     \n",
              " 1st Qu.: 0.0000                     1st Qu.: 5.000                     \n",
              " Median : 0.0000                     Median : 6.000                     \n",
              " Mean   : 0.5418                     Mean   : 6.232                     \n",
              " 3rd Qu.: 0.0000                     3rd Qu.: 7.000                     \n",
              " Max.   :19.0000                     Max.   :23.000                     \n",
              " Curricular.units.2nd.sem..evaluations. Curricular.units.2nd.sem..approved.\n",
              " Min.   : 0.000                         Min.   : 0.000                     \n",
              " 1st Qu.: 6.000                         1st Qu.: 2.000                     \n",
              " Median : 8.000                         Median : 5.000                     \n",
              " Mean   : 8.063                         Mean   : 4.436                     \n",
              " 3rd Qu.:10.000                         3rd Qu.: 6.000                     \n",
              " Max.   :33.000                         Max.   :20.000                     \n",
              " Curricular.units.2nd.sem..grade.\n",
              " Min.   : 0.00                   \n",
              " 1st Qu.:10.75                   \n",
              " Median :12.20                   \n",
              " Mean   :10.23                   \n",
              " 3rd Qu.:13.33                   \n",
              " Max.   :18.57                   \n",
              " Curricular.units.2nd.sem..without.evaluations. Unemployment.rate\n",
              " Min.   : 0.0000                                Min.   : 7.60    \n",
              " 1st Qu.: 0.0000                                1st Qu.: 9.40    \n",
              " Median : 0.0000                                Median :11.10    \n",
              " Mean   : 0.1503                                Mean   :11.57    \n",
              " 3rd Qu.: 0.0000                                3rd Qu.:13.90    \n",
              " Max.   :12.0000                                Max.   :16.20    \n",
              " Inflation.rate        GDP               Target         \n",
              " Min.   :-0.800   Min.   :-4.060000   Length:4424       \n",
              " 1st Qu.: 0.300   1st Qu.:-1.700000   Class :character  \n",
              " Median : 1.400   Median : 0.320000   Mode  :character  \n",
              " Mean   : 1.228   Mean   : 0.001969                     \n",
              " 3rd Qu.: 2.600   3rd Qu.: 1.790000                     \n",
              " Max.   : 3.700   Max.   : 3.510000                     "
            ]
          },
          "metadata": {},
          "output_type": "display_data"
        },
        {
          "name": "stdout",
          "output_type": "stream",
          "text": [
            "'data.frame':\t4424 obs. of  37 variables:\n",
            " $ Marital.status                                : int  1 1 1 1 2 2 1 1 1 1 ...\n",
            " $ Application.mode                              : int  17 15 1 17 39 39 1 18 1 1 ...\n",
            " $ Application.order                             : int  5 1 5 2 1 1 1 4 3 1 ...\n",
            " $ Course                                        : int  171 9254 9070 9773 8014 9991 9500 9254 9238 9238 ...\n",
            " $ Daytime.evening.attendance.                   : int  1 1 1 1 0 0 1 1 1 1 ...\n",
            " $ Previous.qualification                        : int  1 1 1 1 1 19 1 1 1 1 ...\n",
            " $ Previous.qualification..grade.                : num  122 160 122 122 100 ...\n",
            " $ Nacionality                                   : int  1 1 1 1 1 1 1 1 62 1 ...\n",
            " $ Mother.s.qualification                        : int  19 1 37 38 37 37 19 37 1 1 ...\n",
            " $ Father.s.qualification                        : int  12 3 37 37 38 37 38 37 1 19 ...\n",
            " $ Mother.s.occupation                           : int  5 3 9 5 9 9 7 9 9 4 ...\n",
            " $ Father.s.occupation                           : int  9 3 9 3 9 7 10 9 9 7 ...\n",
            " $ Admission.grade                               : num  127 142 125 120 142 ...\n",
            " $ Displaced                                     : int  1 1 1 1 0 0 1 1 0 1 ...\n",
            " $ Educational.special.needs                     : int  0 0 0 0 0 0 0 0 0 0 ...\n",
            " $ Debtor                                        : int  0 0 0 0 0 1 0 0 0 1 ...\n",
            " $ Tuition.fees.up.to.date                       : int  1 0 0 1 1 1 1 0 1 0 ...\n",
            " $ Gender                                        : int  1 1 1 0 0 1 0 1 0 0 ...\n",
            " $ Scholarship.holder                            : int  0 0 0 0 0 0 1 0 1 0 ...\n",
            " $ Age.at.enrollment                             : int  20 19 19 20 45 50 18 22 21 18 ...\n",
            " $ International                                 : int  0 0 0 0 0 0 0 0 1 0 ...\n",
            " $ Curricular.units.1st.sem..credited.           : int  0 0 0 0 0 0 0 0 0 0 ...\n",
            " $ Curricular.units.1st.sem..enrolled.           : int  0 6 6 6 6 5 7 5 6 6 ...\n",
            " $ Curricular.units.1st.sem..evaluations.        : int  0 6 0 8 9 10 9 5 8 9 ...\n",
            " $ Curricular.units.1st.sem..approved.           : int  0 6 0 6 5 5 7 0 6 5 ...\n",
            " $ Curricular.units.1st.sem..grade.              : num  0 14 0 13.4 12.3 ...\n",
            " $ Curricular.units.1st.sem..without.evaluations.: int  0 0 0 0 0 0 0 0 0 0 ...\n",
            " $ Curricular.units.2nd.sem..credited.           : int  0 0 0 0 0 0 0 0 0 0 ...\n",
            " $ Curricular.units.2nd.sem..enrolled.           : int  0 6 6 6 6 5 8 5 6 6 ...\n",
            " $ Curricular.units.2nd.sem..evaluations.        : int  0 6 0 10 6 17 8 5 7 14 ...\n",
            " $ Curricular.units.2nd.sem..approved.           : int  0 6 0 5 6 5 8 0 6 2 ...\n",
            " $ Curricular.units.2nd.sem..grade.              : num  0 13.7 0 12.4 13 ...\n",
            " $ Curricular.units.2nd.sem..without.evaluations.: int  0 0 0 0 0 5 0 0 0 0 ...\n",
            " $ Unemployment.rate                             : num  10.8 13.9 10.8 9.4 13.9 16.2 15.5 15.5 16.2 8.9 ...\n",
            " $ Inflation.rate                                : num  1.4 -0.3 1.4 -0.8 -0.3 0.3 2.8 2.8 0.3 1.4 ...\n",
            " $ GDP                                           : num  1.74 0.79 1.74 -3.12 0.79 -0.92 -4.06 -4.06 -0.92 3.51 ...\n",
            " $ Target                                        : chr  \"Dropout\" \"Graduate\" \"Dropout\" \"Graduate\" ...\n"
          ]
        }
      ],
      "source": [
        "df <- read.csv('https://raw.githubusercontent.com/austinbarish/anly5300-project-group-7/main/data/academic-success.csv', sep=\";\")\n",
        "head(df)\n",
        "summary(df)\n",
        "str(df)"
      ]
    },
    {
      "cell_type": "code",
      "execution_count": 5,
      "metadata": {
        "vscode": {
          "languageId": "r"
        }
      },
      "outputs": [
        {
          "data": {
            "text/plain": [
              "\n",
              " Dropout Enrolled Graduate \n",
              "    1421      794     2209 "
            ]
          },
          "metadata": {},
          "output_type": "display_data"
        }
      ],
      "source": [
        "table(df$Target)"
      ]
    },
    {
      "cell_type": "code",
      "execution_count": 6,
      "metadata": {
        "vscode": {
          "languageId": "r"
        }
      },
      "outputs": [
        {
          "data": {
            "text/plain": [
              "\n",
              "  Dropout  Enrolled  Graduate \n",
              "0.3212025 0.1794756 0.4993219 "
            ]
          },
          "metadata": {},
          "output_type": "display_data"
        }
      ],
      "source": [
        "prop.table(table(df$Target))"
      ]
    },
    {
      "cell_type": "code",
      "execution_count": null,
      "metadata": {
        "vscode": {
          "languageId": "r"
        }
      },
      "outputs": [],
      "source": [
        "tmp_df <- df\n",
        "tmp_df$Target <- as.numeric(factor(tmp_df$Target))\n",
        "str(tmp_df)"
      ]
    },
    {
      "cell_type": "code",
      "execution_count": null,
      "metadata": {
        "vscode": {
          "languageId": "r"
        }
      },
      "outputs": [],
      "source": [
        "png('corrplot.png', width=1000,height=1000)\n",
        "M <- cor(tmp_df)\n",
        "corrplot(M, method='color', type='lower', diag=FALSE)\n",
        "dev.off()"
      ]
    },
    {
      "cell_type": "code",
      "execution_count": null,
      "metadata": {
        "vscode": {
          "languageId": "r"
        }
      },
      "outputs": [],
      "source": [
        "ggplot(df, aes(Target, Curricular.units.2nd.sem..approved.)) + geom_boxplot()"
      ]
    },
    {
      "cell_type": "code",
      "execution_count": null,
      "metadata": {
        "vscode": {
          "languageId": "r"
        }
      },
      "outputs": [],
      "source": [
        "#continuous variables: previous qualification (grade), admission grade, GDP, inflation rate, unemployment rate\n",
        "ggplot(df, aes(Target, Admission.grade)) + geom_boxplot()"
      ]
    },
    {
      "cell_type": "code",
      "execution_count": null,
      "metadata": {
        "vscode": {
          "languageId": "r"
        }
      },
      "outputs": [],
      "source": [
        "ggplot(df, aes(Target, Previous.qualification..grade.)) + geom_boxplot()"
      ]
    },
    {
      "cell_type": "code",
      "execution_count": null,
      "metadata": {
        "vscode": {
          "languageId": "r"
        }
      },
      "outputs": [],
      "source": [
        "ggplot(df, aes(Target, Unemployment.rate)) + geom_boxplot()"
      ]
    },
    {
      "cell_type": "code",
      "execution_count": null,
      "metadata": {
        "vscode": {
          "languageId": "r"
        }
      },
      "outputs": [],
      "source": [
        "# map_df <- df\n",
        "# #create csv file for tableau map\n",
        "# cat_nation <- c('Portugal', 'Germany', 'Spain', 'Italy', 'The Netherlands', 'United Kingdom', 'Lithuania', 'Angola','Cape Verde', 'Guinea', 'Mozambique', 'São Tomé and Príncipe', 'Turkey', 'Brazil', 'Romania', 'Moldova', 'Mexico', 'Ukraine', 'Russia', 'Cuba', 'Colombia')\n",
        "# map_df$Nacionality <- mapvalues(map_df$Nacionality, from=c(1,2,6,11,13,14,17,21,22,24,25,26,32,41,62,100,101,103,105,108,109), to=cat_nation)\n",
        "\n",
        "# nation_table <- table(map_df$Target, map_df$Nacionality)\n",
        "# map_nation_df <- as.data.frame(nation_table)\n",
        "# colnames(map_nation_df) <- c('Target', 'Nacionality', 'Count')\n",
        "# write.csv(map_nation_df, \"tmp_academic_success.csv\")"
      ]
    },
    {
      "cell_type": "code",
      "execution_count": null,
      "metadata": {
        "vscode": {
          "languageId": "r"
        }
      },
      "outputs": [],
      "source": [
        "#contingency tables\n",
        "cat_df <- df\n",
        "cat_marital <- c('single', 'married', 'widower', 'divorced', 'factor union', 'legally separated')\n",
        "cat_df$Marital.status <- mapvalues(cat_df$Marital.status, from=c(1,2,3,4,5,6), to=cat_marital)\n",
        "\n",
        "marital_table <- table(cat_df$Target, cat_df$Marital.status)\n",
        "marital_table\n",
        "\n",
        "cat_nation <- c('Portuguese', 'German', 'Spanish', 'Italian', 'Dutch', 'English', 'Lithuanian', 'Angolan','Cape Verdean', 'Guinean', 'Mozambican', 'Santomean','Turkish', 'Brazilian', 'Romanian', 'Moldova (Republic of)', 'Mexican', 'Ukrainian', 'Russian', 'Cuban', 'Colombian')\n",
        "cat_df$Nacionality <- mapvalues(cat_df$Nacionality, from=c(1,2,6,11,13,14,17,21,22,24,25,26,32,41,62,100,101,103,105,108,109), to=cat_nation)\n",
        "\n",
        "nation_table <- table(cat_df$Target, cat_df$Nacionality)\n",
        "nation_table"
      ]
    },
    {
      "cell_type": "code",
      "execution_count": null,
      "metadata": {
        "vscode": {
          "languageId": "r"
        }
      },
      "outputs": [],
      "source": [
        "#bar plots of contingency tables\n",
        "marital_df <- as.data.frame(marital_table)\n",
        "colnames(marital_df) <- c('Target', 'Marital.status', 'Count')\n",
        "\n",
        "ggplot(marital_df, aes(x=Target, y=Count, fill=Marital.status)) + geom_bar(position=\"dodge\", stat=\"identity\")"
      ]
    },
    {
      "cell_type": "code",
      "execution_count": null,
      "metadata": {
        "vscode": {
          "languageId": "r"
        }
      },
      "outputs": [],
      "source": [
        "nation_df <- as.data.frame(nation_table)\n",
        "colnames(nation_df) <- c('Target', 'Nacionality', 'Count')\n",
        "\n",
        "ggplot(nation_df, aes(x=Target, y=Count, fill=Nacionality)) + geom_bar(position=\"dodge\", stat=\"identity\")"
      ]
    }
  ],
  "metadata": {
    "kernelspec": {
      "display_name": "R",
      "language": "R",
      "name": "ir"
    },
    "language_info": {
      "codemirror_mode": "r",
      "file_extension": ".r",
      "mimetype": "text/x-r-source",
      "name": "R",
      "pygments_lexer": "r",
      "version": "4.3.1"
    }
  },
  "nbformat": 4,
  "nbformat_minor": 4
}
